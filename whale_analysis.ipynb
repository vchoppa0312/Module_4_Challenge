{
 "cells": [
  {
   "cell_type": "markdown",
   "metadata": {},
   "source": [
    " #  A Whale off the Port(folio)\n",
    " ---\n",
    "\n",
    " In this assignment, you'll get to use what you've learned this week to evaluate the performance among various algorithmic, hedge, and mutual fund portfolios and compare them against the S&P TSX 60 Index."
   ]
  },
  {
   "cell_type": "code",
   "execution_count": null,
   "metadata": {
    "tags": []
   },
   "outputs": [],
   "source": [
    "# Initial imports\n",
    "import pandas as pd\n",
    "import numpy as np\n",
    "import datetime as dt\n",
    "from pathlib import Path\n",
    "\n",
    "%matplotlib inline"
   ]
  },
  {
   "cell_type": "markdown",
   "metadata": {},
   "source": [
    "# Data Cleaning\n",
    "\n",
    "In this section, you will need to read the CSV files into DataFrames and perform any necessary data cleaning steps. After cleaning, combine all DataFrames into a single DataFrame.\n",
    "\n",
    "Files:\n",
    "\n",
    "* `whale_returns.csv`: Contains returns of some famous \"whale\" investors' portfolios.\n",
    "\n",
    "* `algo_returns.csv`: Contains returns from the in-house trading algorithms from Harold's company.\n",
    "\n",
    "* `sp_tsx_history.csv`: Contains historical closing prices of the S&P TSX 60 Index."
   ]
  },
  {
   "cell_type": "markdown",
   "metadata": {},
   "source": [
    "## Whale Returns\n",
    "\n",
    "Read the Whale Portfolio daily returns and clean the data."
   ]
  },
  {
   "cell_type": "code",
   "execution_count": null,
   "metadata": {
    "tags": []
   },
   "outputs": [],
   "source": [
    "whale_returns_path = Path(\"./Resources/whale_returns.csv\")"
   ]
  },
  {
   "cell_type": "code",
   "execution_count": null,
   "metadata": {
    "tags": []
   },
   "outputs": [],
   "source": [
    "# Reading whale returns\n",
    "df_whale_returns = pd.read_csv(whale_returns_path, index_col = 'Date')\n",
    "\n",
    "df_whale_returns.head()"
   ]
  },
  {
   "cell_type": "code",
   "execution_count": null,
   "metadata": {
    "tags": []
   },
   "outputs": [],
   "source": [
    "# Count nulls\n",
    "df_whale_returns.isnull().sum()\n"
   ]
  },
  {
   "cell_type": "code",
   "execution_count": null,
   "metadata": {
    "tags": []
   },
   "outputs": [],
   "source": [
    "# Drop nulls\n",
    "df_whale_returns = df_whale_returns.dropna()\n",
    "\n",
    "df_whale_returns.index = pd.to_datetime(df_whale_returns.index)\n",
    "\n",
    "df_whale_returns.sort_index(inplace=True)\n",
    "\n",
    "df_whale_returns"
   ]
  },
  {
   "cell_type": "markdown",
   "metadata": {},
   "source": [
    "## Algorithmic Daily Returns\n",
    "\n",
    "Read the algorithmic daily returns and clean the data."
   ]
  },
  {
   "cell_type": "code",
   "execution_count": null,
   "metadata": {
    "tags": []
   },
   "outputs": [],
   "source": [
    "# Reading algorithmic returns\n",
    "algo_returns_path = Path(\"./Resources/algo_returns.csv\")\n",
    "\n",
    "df_algo_returns = pd.read_csv(algo_returns_path, index_col = 'Date')\n",
    "\n",
    "df_algo_returns.head()"
   ]
  },
  {
   "cell_type": "code",
   "execution_count": null,
   "metadata": {
    "tags": []
   },
   "outputs": [],
   "source": [
    "# Count nulls\n",
    "df_algo_returns.isnull().sum()"
   ]
  },
  {
   "cell_type": "code",
   "execution_count": null,
   "metadata": {
    "tags": []
   },
   "outputs": [],
   "source": [
    "# Drop nulls\n",
    "df_algo_returns = df_algo_returns.dropna()\n",
    "\n",
    "df_algo_returns.index = pd.to_datetime(df_algo_returns.index)\n",
    "\n",
    "df_algo_returns.sort_index(inplace=True)\n",
    "\n",
    "df_algo_returns"
   ]
  },
  {
   "cell_type": "markdown",
   "metadata": {},
   "source": [
    "## S&P TSX 60 Returns\n",
    "\n",
    "Read the S&P TSX 60 historic closing prices and create a new daily returns DataFrame from the data. "
   ]
  },
  {
   "cell_type": "code",
   "execution_count": null,
   "metadata": {},
   "outputs": [],
   "source": [
    "# Reading S&P TSX 60 Closing Prices\n",
    "sp_tsx_path = Path(\"./Resources/sp_tsx_history.csv\")\n",
    "\n",
    "sp_tsx_returns = pd.read_csv(sp_tsx_path, index_col = 'Date')\n",
    "\n",
    "sp_tsx_returns.head()"
   ]
  },
  {
   "cell_type": "code",
   "execution_count": null,
   "metadata": {},
   "outputs": [],
   "source": [
    "# Check Data Types\n",
    "\n",
    "sp_tsx_returns.index = pd.to_datetime(sp_tsx_returns.index)\n",
    "\n",
    "sp_tsx_returns\n"
   ]
  },
  {
   "cell_type": "code",
   "execution_count": null,
   "metadata": {},
   "outputs": [],
   "source": [
    "# Fix Data Types\n",
    "\n",
    "sp_tsx_returns['Close']=sp_tsx_returns['Close'].str.replace('$','')\n",
    "\n",
    "sp_tsx_returns['Close']=sp_tsx_returns['Close'].str.replace(',','')"
   ]
  },
  {
   "cell_type": "code",
   "execution_count": null,
   "metadata": {
    "tags": []
   },
   "outputs": [],
   "source": [
    "sp_tsx_returns['Close']= sp_tsx_returns['Close'].astype('float')\n",
    "\n",
    "sp_tsx_returns"
   ]
  },
  {
   "cell_type": "code",
   "execution_count": null,
   "metadata": {},
   "outputs": [],
   "source": [
    "# Calculate Daily Returns\n",
    "sp_tsx_daily_returns = sp_tsx_returns.pct_change()\n",
    "\n",
    "sp_tsx_daily_returns"
   ]
  },
  {
   "cell_type": "code",
   "execution_count": null,
   "metadata": {},
   "outputs": [],
   "source": [
    "# Drop nulls\n",
    "sp_tsx_daily_returns = sp_tsx_daily_returns.dropna()"
   ]
  },
  {
   "cell_type": "code",
   "execution_count": null,
   "metadata": {},
   "outputs": [],
   "source": [
    "# Rename `Close` Column to be specific to this portfolio.\n",
    "sp_tsx_daily_returns.rename(columns={'Close':'S&P500'},inplace=True)\n",
    "\n",
    "sp_tsx_daily_returns.sort_index(inplace = True)\n",
    "\n",
    "sp_tsx_daily_returns"
   ]
  },
  {
   "cell_type": "markdown",
   "metadata": {},
   "source": [
    "## Combine Whale, Algorithmic, and S&P TSX 60 Returns"
   ]
  },
  {
   "cell_type": "code",
   "execution_count": null,
   "metadata": {},
   "outputs": [],
   "source": [
    "# Join Whale Returns, Algorithmic Returns, and the S&P TSX 60 Returns into a single DataFrame with columns for each portfolio's returns.\n",
    "combined_daily_returns = pd.concat([df_whale_returns, df_algo_returns, sp_tsx_daily_returns], axis = 'columns', join = 'inner')\n",
    "combined_daily_returns"
   ]
  },
  {
   "cell_type": "markdown",
   "metadata": {},
   "source": [
    "---"
   ]
  },
  {
   "cell_type": "markdown",
   "metadata": {},
   "source": [
    "# Conduct Quantitative Analysis\n",
    "\n",
    "In this section, you will calculate and visualize performance and risk metrics for the portfolios."
   ]
  },
  {
   "cell_type": "markdown",
   "metadata": {},
   "source": [
    "## Performance Anlysis\n",
    "\n",
    "#### Calculate and Plot the daily returns."
   ]
  },
  {
   "cell_type": "code",
   "execution_count": null,
   "metadata": {},
   "outputs": [],
   "source": [
    "# Plot daily returns of all portfolios\n",
    "\n",
    "combined_daily_returns.plot(legend=True, figsize = (10,10), title='Portfolios Daily Returns')"
   ]
  },
  {
   "cell_type": "markdown",
   "metadata": {},
   "source": [
    "#### Calculate and Plot cumulative returns."
   ]
  },
  {
   "cell_type": "code",
   "execution_count": null,
   "metadata": {},
   "outputs": [],
   "source": [
    "# Calculate cumulative returns of all portfolios\n",
    "\n",
    "cumulative_returns = (1+combined_daily_returns).cumprod()\n",
    "\n",
    "# Plot cumulative returns\n",
    "\n",
    "cumulative_returns.plot(legend=True, figsize = (10,10), title='Portfolios Cummulative Returns')"
   ]
  },
  {
   "cell_type": "markdown",
   "metadata": {},
   "source": [
    "---"
   ]
  },
  {
   "cell_type": "markdown",
   "metadata": {},
   "source": [
    "## Risk Analysis\n",
    "\n",
    "Determine the _risk_ of each portfolio:\n",
    "\n",
    "1. Create a box plot for each portfolio. \n",
    "2. Calculate the standard deviation for all portfolios.\n",
    "4. Determine which portfolios are riskier than the S&P TSX 60.\n",
    "5. Calculate the Annualized Standard Deviation."
   ]
  },
  {
   "cell_type": "markdown",
   "metadata": {},
   "source": [
    "### Create a box plot for each portfolio\n"
   ]
  },
  {
   "cell_type": "code",
   "execution_count": null,
   "metadata": {},
   "outputs": [],
   "source": [
    "# Box plot to visually show risk\n",
    "combined_daily_returns.plot(kind = 'box',figsize=(20,10), title='Portfolios Daily Returns')"
   ]
  },
  {
   "cell_type": "markdown",
   "metadata": {},
   "source": [
    "### Calculate Standard Deviations"
   ]
  },
  {
   "cell_type": "code",
   "execution_count": null,
   "metadata": {},
   "outputs": [],
   "source": [
    "# Calculate the daily standard deviations of all portfolios\n",
    "combined_daily_std = combined_daily_returns.std()\n",
    "\n",
    "combined_daily_std"
   ]
  },
  {
   "cell_type": "markdown",
   "metadata": {},
   "source": [
    "### Determine which portfolios are riskier than the S&P TSX 60"
   ]
  },
  {
   "cell_type": "code",
   "execution_count": null,
   "metadata": {},
   "outputs": [],
   "source": [
    "# Calculate  the daily standard deviation of S&P TSX 60\n",
    "combined_daily_returns['S&P500'].std()\n",
    "\n",
    "portfolios_list = combined_daily_returns.columns\n",
    "\n",
    "\n",
    "# Determine which portfolios are riskier than the S&P TSX 60\n",
    "riskier_portfolios = []\n",
    "\n",
    "for portfolio in portfolios_list:\n",
    "    if combined_daily_returns[portfolio].std() > combined_daily_returns['S&P500'].std():\n",
    "        riskier_portfolios.append(portfolio)\n",
    "        \n",
    "riskier_portfolios        \n"
   ]
  },
  {
   "cell_type": "markdown",
   "metadata": {},
   "source": [
    "### Calculate the Annualized Standard Deviation"
   ]
  },
  {
   "cell_type": "code",
   "execution_count": null,
   "metadata": {},
   "outputs": [],
   "source": [
    "# Calculate the annualized standard deviation (252 trading days)\n",
    "combined_annual_std = combined_daily_std * np.sqrt(252)\n",
    "\n",
    "combined_annual_std"
   ]
  },
  {
   "cell_type": "markdown",
   "metadata": {},
   "source": [
    "---"
   ]
  },
  {
   "cell_type": "markdown",
   "metadata": {},
   "source": [
    "## Rolling Statistics\n",
    "\n",
    "Risk changes over time. Analyze the rolling statistics for Risk and Beta. \n",
    "\n",
    "1. Calculate and plot the rolling standard deviation for all portfolios using a 21-day window.\n",
    "2. Calculate the correlation between each stock to determine which portfolios may mimick the S&P TSX 60.\n",
    "3. Choose one portfolio, then calculate and plot the 60-day rolling beta for it and the S&P TSX 60."
   ]
  },
  {
   "cell_type": "markdown",
   "metadata": {},
   "source": [
    "### Calculate and plot rolling `std` for all portfolios with 21-day window"
   ]
  },
  {
   "cell_type": "code",
   "execution_count": null,
   "metadata": {},
   "outputs": [],
   "source": [
    "# Calculate the rolling standard deviation for all portfolios using a 21-day window\n",
    "\n",
    "rolling_std = combined_daily_returns.rolling(window=21).std()\n",
    "\n",
    "rolling_std\n",
    "\n",
    "# Plot the rolling standard deviation\n",
    "\n",
    "rolling_std.plot(figsize = (15,10), title='21-Day Rolling Standard Deviation')\n"
   ]
  },
  {
   "cell_type": "markdown",
   "metadata": {},
   "source": [
    "### Calculate and plot the correlation"
   ]
  },
  {
   "cell_type": "code",
   "execution_count": null,
   "metadata": {},
   "outputs": [],
   "source": [
    "# Calculate the correlation\n",
    "\n",
    "portfolio_corr = combined_daily_returns.corr()\n",
    "\n",
    "# Display de correlation matrix\n",
    "\n",
    "portfolio_corr\n"
   ]
  },
  {
   "cell_type": "markdown",
   "metadata": {},
   "source": [
    "### Calculate and Plot Beta for a chosen portfolio and the S&P 60 TSX"
   ]
  },
  {
   "cell_type": "code",
   "execution_count": null,
   "metadata": {},
   "outputs": [],
   "source": [
    "# Calculating Beta of Portfolios and the S&P 500\n",
    "\n",
    "sp500_rolling_var = combined_daily_returns['S&P500'].rolling(window=60).var() # Calculate variance of S&P TSX\n",
    "\n",
    "# Using Functionns to Calculate Rolling Beta of Selected Portfolio\n",
    "\n",
    "def calculate_rolling_beta():\n",
    "    rolling_beta = pd.DataFrame()\n",
    "    for portfolio in portfolios_list:\n",
    "        portfolio_rolling_cov = combined_daily_returns[portfolio].rolling(window=60).cov(combined_daily_returns['S&P500']) # Calculate covariance of a single portfolio\n",
    "        portfolio_rolling_beta = portfolio_rolling_cov / sp500_rolling_var                                                 # Computing beta\n",
    "        rolling_beta[portfolio] = portfolio_rolling_beta\n",
    "    \n",
    "    return rolling_beta.dropna()\n",
    "\n",
    "portfolios_rolling_beta = calculate_rolling_beta()\n",
    "\n",
    "portfolios_rolling_beta\n",
    "\n",
    "# Plot beta trend for selected portfolio from portfolios list\n",
    "\n",
    "portfolios_rolling_beta[portfolios_list[4]].plot(figsize = (18,6), title=(f'{portfolios_list[4]} 60-Day Rolling Beta Trend'))\n",
    "                                            \n",
    "        "
   ]
  },
  {
   "cell_type": "markdown",
   "metadata": {},
   "source": [
    "## Rolling Statistics Challenge: Exponentially Weighted Average \n",
    "\n",
    "An alternative way to calculate a rolling window is to take the exponentially weighted moving average. This is like a moving window average, but it assigns greater importance to more recent observations. Try calculating the [`ewm`](https://pandas.pydata.org/pandas-docs/stable/reference/api/pandas.DataFrame.ewm.html) with a 21-day half life for each portfolio, using standard deviation (`std`) as the metric of interest."
   ]
  },
  {
   "cell_type": "code",
   "execution_count": null,
   "metadata": {},
   "outputs": [],
   "source": [
    "# Use `ewm` to calculate the rolling window\n",
    "\n",
    "portfolio_std_ewm = combined_daily_returns.ewm(com=21).std()\n",
    "\n",
    "portfolio_std_ewm"
   ]
  },
  {
   "cell_type": "markdown",
   "metadata": {},
   "source": [
    "---"
   ]
  },
  {
   "cell_type": "markdown",
   "metadata": {},
   "source": [
    "# Sharpe Ratios\n",
    "In reality, investment managers and thier institutional investors look at the ratio of return-to-risk, and not just returns alone. After all, if you could invest in one of two portfolios, and each offered the same 10% return, yet one offered lower risk, you'd take that one, right?\n",
    "\n",
    "### Using the daily returns, calculate and visualize the Sharpe ratios using a bar plot"
   ]
  },
  {
   "cell_type": "code",
   "execution_count": null,
   "metadata": {},
   "outputs": [],
   "source": [
    "# Annualized Sharpe Ratios\n",
    "\n",
    "portfolio_sharpe = (combined_daily_returns.mean() * 252)/((combined_daily_returns.std())*np.sqrt(252))\n",
    "\n",
    "portfolio_sharpe"
   ]
  },
  {
   "cell_type": "code",
   "execution_count": null,
   "metadata": {},
   "outputs": [],
   "source": [
    "# Visualize the sharpe ratios as a bar plot\n",
    "portfolio_sharpe.plot(kind='bar', figsize=(10,5), title='Portfolio Sharpe Ratios')"
   ]
  },
  {
   "cell_type": "markdown",
   "metadata": {},
   "source": [
    "### Determine whether the algorithmic strategies outperform both the market (S&P TSX 60) and the whales portfolios.\n",
    "\n",
    "While Algo 1 portfolio clearly outperformed the other portfolios and the market comprehensively, Algo 2 had better reward for risk than market and other whale portfolios except for Berkshire Hathaway Inc.\n",
    "\n",
    "With low Beta and Sharpe ratio of 1.50, portfolio constructed using Algo 1 strategy has been a clear winner giving a higher risk-adjusted return with lesser volatility compared to other portofolios."
   ]
  },
  {
   "cell_type": "markdown",
   "metadata": {},
   "source": [
    "---"
   ]
  },
  {
   "cell_type": "markdown",
   "metadata": {},
   "source": [
    "# Create Custom Portfolio\n",
    "\n",
    "In this section, you will build your own portfolio of stocks, calculate the returns, and compare the results to the Whale Portfolios and the S&P TSX 60. \n",
    "\n",
    "1. Choose 3-5 custom stocks with at last 1 year's worth of historic prices and create a DataFrame of the closing prices and dates for each stock.\n",
    "2. Calculate the weighted returns for the portfolio assuming an equal number of shares for each stock.\n",
    "3. Join your portfolio returns to the DataFrame that contains all of the portfolio returns.\n",
    "4. Re-run the performance and risk analysis with your portfolio to see how it compares to the others.\n",
    "5. Include correlation analysis to determine which stocks (if any) are correlated."
   ]
  },
  {
   "cell_type": "markdown",
   "metadata": {},
   "source": [
    "## Choose 3-5 custom stocks with at last 1 year's worth of historic prices and create a DataFrame of the closing prices and dates for each stock."
   ]
  },
  {
   "cell_type": "code",
   "execution_count": null,
   "metadata": {},
   "outputs": [],
   "source": [
    "# Using GOOGLEFINANCE to generate Stock Price Data \n",
    "# GOOGLEFINANCE(\"NYSE:CVX\", \"price\", DATE(2018,2,1), DATE(2019,12,31), \"DAILY\")\n",
    "# Stocks selected for analysis NVDA, SHOP, BAC, CVX, OTEX\n",
    "\n",
    "stocks_list = ['NVDA','SHOP','BAC','CVX','OTEX']\n",
    "\n",
    "# Using Functions to read stocks data and create DataFrame of Daily Returns\n",
    "\n",
    "def daily_returns():\n",
    "    dfs = []\n",
    "    for stock in stocks_list:\n",
    "        file_path = Path(\"./Resources/\"+stock+\".csv\")\n",
    "        stock_df = pd.read_csv(file_path, index_col = 'Date') # Reading data from stocks\n",
    "        stock_df.rename(columns = {'Close':(f'{stock}')}, inplace = True)\n",
    "        stock_df.index = pd.to_datetime(stock_df.index).date # Reset Date index\n",
    "        stock_df.sort_index(inplace=True)\n",
    "        dfs.append(stock_df)\n",
    "        \n",
    "    stocks_daily_price = pd.concat(dfs, axis = 'columns', join = 'inner') # Combine all stocks in a single DataFrame\n",
    "    \n",
    "    stocks_daily_price.drop(columns = 'Symbol', inplace = True) # Reorganize portfolio data by having a column per symbol\n",
    "    \n",
    "    stocks_daily_returns = stocks_daily_price.pct_change() # Calculate daily returns\n",
    "    \n",
    "    stocks_daily_returns.dropna(inplace = True) # Drop NAs\n",
    "    \n",
    "    return stocks_daily_returns\n",
    "\n",
    "my_stocks_daily_returns = daily_returns()\n",
    "\n",
    "\n",
    "my_stocks_daily_returns       "
   ]
  },
  {
   "cell_type": "markdown",
   "metadata": {},
   "source": [
    "## Calculate the weighted returns for the portfolio assuming an equal number of shares for each stock"
   ]
  },
  {
   "cell_type": "code",
   "execution_count": null,
   "metadata": {},
   "outputs": [],
   "source": [
    "# Set weights : Using Functions to allocate equal weights to stocks in portfolio\n",
    "def equal_weights():\n",
    "    allocation = []\n",
    "    for stock in stocks_list:\n",
    "        weight = 1 / len(stocks_list)\n",
    "        allocation.append(weight)\n",
    "    return allocation    \n",
    "\n",
    "weights = equal_weights()\n",
    "\n",
    "weights\n",
    "\n",
    "# Calculate portfolio return\n",
    "\n",
    "my_portfolio_daily_returns = pd.DataFrame(my_stocks_daily_returns.dot(weights))\n",
    "\n",
    "# Display sample data\n",
    "\n",
    "my_portfolio_daily_returns.rename(columns = {0:'MY PORTFOLIO'}, inplace = True)\n",
    "\n",
    "my_portfolio_daily_returns\n"
   ]
  },
  {
   "cell_type": "markdown",
   "metadata": {},
   "source": [
    "## Join your portfolio returns to the DataFrame that contains all of the portfolio returns"
   ]
  },
  {
   "cell_type": "code",
   "execution_count": null,
   "metadata": {},
   "outputs": [],
   "source": [
    "# Join your returns DataFrame to the original returns DataFrame\n",
    "\n",
    "new_combined_daily_returns = pd.concat([combined_daily_returns, my_portfolio_daily_returns], axis = 'columns', join ='outer')\n"
   ]
  },
  {
   "cell_type": "code",
   "execution_count": null,
   "metadata": {},
   "outputs": [],
   "source": [
    "# Only compare dates where return data exists for all the stocks (drop NaNs)\n",
    "new_combined_daily_returns.dropna(inplace=True)\n",
    "\n",
    "new_combined_daily_returns"
   ]
  },
  {
   "cell_type": "markdown",
   "metadata": {},
   "source": [
    "## Re-run the risk analysis with your portfolio to see how it compares to the others"
   ]
  },
  {
   "cell_type": "markdown",
   "metadata": {},
   "source": [
    "### Calculate the Annualized Standard Deviation"
   ]
  },
  {
   "cell_type": "code",
   "execution_count": null,
   "metadata": {},
   "outputs": [],
   "source": [
    "# Calculate the annualized `std`\n",
    "\n",
    "new_combined_annual_std = (new_combined_daily_returns.std())*(np.sqrt(252))\n",
    "\n",
    "new_combined_annual_std\n"
   ]
  },
  {
   "cell_type": "markdown",
   "metadata": {},
   "source": [
    "### Calculate and plot rolling `std` with 21-day window"
   ]
  },
  {
   "cell_type": "code",
   "execution_count": null,
   "metadata": {},
   "outputs": [],
   "source": [
    "# Calculate rolling standard deviation\n",
    "\n",
    "new_combined_rolling_std = new_combined_daily_returns.rolling(window = 21).std()\n",
    "\n",
    "# Plot rolling standard deviation\n",
    "\n",
    "new_combined_rolling_std.plot(figsize=(15,10))"
   ]
  },
  {
   "cell_type": "markdown",
   "metadata": {},
   "source": [
    "### Calculate and plot the correlation"
   ]
  },
  {
   "cell_type": "code",
   "execution_count": null,
   "metadata": {},
   "outputs": [],
   "source": [
    "# Calculate and plot the correlation\n",
    "\n",
    "new_combined_portfolios_corr = new_combined_daily_returns.corr()\n",
    "\n",
    "new_combined_portfolios_corr"
   ]
  },
  {
   "cell_type": "markdown",
   "metadata": {},
   "source": [
    "### Calculate and Plot the 60-day Rolling Beta for Your Portfolio compared to the S&P 60 TSX"
   ]
  },
  {
   "cell_type": "code",
   "execution_count": null,
   "metadata": {},
   "outputs": [],
   "source": [
    "# Calculate and plot Beta\n",
    "\n",
    "my_portfolio_rolling_cov = new_combined_daily_returns['MY PORTFOLIO'].rolling(window=60).cov(new_combined_daily_returns['S&P500'])\n",
    "\n",
    "sp500_rolling_var = new_combined_daily_returns['S&P500'].rolling(window=60).var()\n",
    "\n",
    "my_portfolio_rolling_beta = my_portfolio_rolling_cov / sp500_rolling_var\n",
    "\n",
    "my_portfolio_rolling_beta.plot(figsize=(10,5), title = 'My Portfolio 60-Day Rolling Beta compared to S&P 500')\n",
    "                                                                                     \n",
    "                                                                                     "
   ]
  },
  {
   "cell_type": "markdown",
   "metadata": {},
   "source": [
    "### Using the daily returns, calculate and visualize the Sharpe ratios using a bar plot"
   ]
  },
  {
   "cell_type": "code",
   "execution_count": null,
   "metadata": {},
   "outputs": [],
   "source": [
    "# Calculate Annualized Sharpe Ratios\n",
    "\n",
    "new_combined_portfolios_sharpe = round((new_combined_daily_returns.mean() * 252) / (new_combined_annual_std),2)\n",
    "\n",
    "new_combined_portfolios_sharpe\n"
   ]
  },
  {
   "cell_type": "code",
   "execution_count": null,
   "metadata": {},
   "outputs": [],
   "source": [
    "# Visualize the sharpe ratios as a bar plot\n",
    "\n",
    "new_combined_portfolios_sharpe.plot(kind = 'bar', figsize = (10,5), title='Sharpe Ratios')"
   ]
  },
  {
   "cell_type": "markdown",
   "metadata": {},
   "source": [
    "### How does your portfolio do?\n",
    "\n",
    "Write your answer here!"
   ]
  },
  {
   "cell_type": "markdown",
   "metadata": {},
   "source": [
    "## Stocks Selected ##\n",
    "\n",
    "For the purpose of analysis, I have selected a list of 5 stocks: Nvidia Corp, Bank of America Corp, Chevron Corp, Shopify Inc and Open Text Corp. The time frame used for data collection is from Feb 01, 2018 to Dec 31, 2019.\n",
    "\n",
    "## Portfolio Performance ##\n",
    "\n",
    "I have created a new portfolio by assigning equal weight to all the five stocks selected and compared the returns and risk with other portfolios provided for analysis.\n",
    "\n",
    "In the time frame used for analysis, the new portfolio, with sharpe ratio of 0.55, gave a better risk adjusted return compared to the S&P 500 and other whale portfolios. Further, while portfolio constructed by Algo 1 was a clear winner, the new portfolio has performed better than Algo 2 portfolio in terms of risk adjusted return.\n"
   ]
  }
 ],
 "metadata": {
  "file_extension": ".py",
  "kernelspec": {
   "display_name": "Python 3 (ipykernel)",
   "language": "python",
   "name": "python3"
  },
  "language_info": {
   "codemirror_mode": {
    "name": "ipython",
    "version": 3
   },
   "file_extension": ".py",
   "mimetype": "text/x-python",
   "name": "python",
   "nbconvert_exporter": "python",
   "pygments_lexer": "ipython3",
   "version": "3.11.5"
  },
  "mimetype": "text/x-python",
  "name": "python",
  "npconvert_exporter": "python",
  "pygments_lexer": "ipython3",
  "version": 3
 },
 "nbformat": 4,
 "nbformat_minor": 4
}
